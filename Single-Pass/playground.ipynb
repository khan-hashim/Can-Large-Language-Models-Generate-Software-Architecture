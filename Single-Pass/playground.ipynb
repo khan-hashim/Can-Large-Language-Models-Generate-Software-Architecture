{
 "cells": [
  {
   "cell_type": "code",
   "execution_count": 1,
   "metadata": {},
   "outputs": [],
   "source": [
    "import re\n",
    "from functools import partial\n",
    "from typing import Optional, Tuple\n",
    "\n",
    "import xml.etree.ElementTree as ET\n",
    "from zss import Node, simple_distance\n",
    "from zss.compare import Operation\n",
    "\n",
    "\n",
    "def strip_ns(tag: str) -> str:\n",
    "    return tag.split('}')[-1] if '}' in tag else tag\n",
    "\n",
    "\n",
    "def xml_to_zss(xml: ET.Element, strip: bool = True) -> Node:\n",
    "    id = ':'.join([strip_ns(xml.tag) if strip else xml.tag,\n",
    "                   xml.attrib.get('name', ''),\n",
    "                   xml.attrib.get('xmi:type', '')])\n",
    "    return Node(id, list(map(xml_to_zss, xml)))\n",
    "\n",
    "\n",
    "def xml_comp_metrics(\n",
    "    file1: str,\n",
    "    file2: str,\n",
    "    strip: bool = True,\n",
    "    ) -> Tuple[float, float, float, float]:\n",
    "    xml1, xml2 = map(ET.parse, [file1, file2])\n",
    "    zss1, zss2 = map(partial(xml_to_zss, strip=strip), [xml1.getroot(), xml2.getroot()])\n",
    "    dist, ops = simple_distance(zss1, zss2, return_operations=True)\n",
    "    tp = sum(1 for op in ops if op.type == Operation.match)\n",
    "    fp = sum(1 for op in ops if op.type in [Operation.insert, Operation.update])\n",
    "    fn = sum(1 for op in ops if op.type in [Operation.remove, Operation.update])\n",
    "    return dist, tp, fp, fn\n",
    "\n",
    "# # Usage:\n",
    "# dist, tp, fp, fn = xml_comp_metrics('diagram1.xmi', 'diagram2.xmi')\n",
    "# print(f'Distance, true positives, false positives, and false negatives: {dist, tp, fp, fn}')"
   ]
  },
  {
   "cell_type": "code",
   "execution_count": 2,
   "metadata": {},
   "outputs": [],
   "source": [
    "import glob\n",
    "import os\n",
    "import subprocess"
   ]
  },
  {
   "cell_type": "code",
   "execution_count": 3,
   "metadata": {},
   "outputs": [],
   "source": [
    "for file in glob.glob('*.puml'):\n",
    "    if not os.path.exists(file.replace('.puml', '.xmi')):\n",
    "        subprocess.run(['java', '-jar', 'plantuml.jar', '-txmi', file])"
   ]
  },
  {
   "cell_type": "code",
   "execution_count": 8,
   "metadata": {},
   "outputs": [
    {
     "name": "stdout",
     "output_type": "stream",
     "text": [
      "Distance, true positives, false positives, and false negatives between benchmark and o3-Zero-Shot:  (49.0, 123, 45, 13)\n",
      "Distance, true positives, false positives, and false negatives between benchmark and flash-Chain-of-thought:  (47.0, 92, 28, 44)\n",
      "Distance, true positives, false positives, and false negatives between benchmark and o3-Chain-of-thought:  (30.0, 124, 28, 12)\n",
      "Distance, true positives, false positives, and false negatives between benchmark and o3-In-Context:  (11.0, 125, 11, 11)\n",
      "Distance, true positives, false positives, and false negatives between benchmark and maverick-In-Context:  (86.0, 50, 10, 86)\n",
      "Distance, true positives, false positives, and false negatives between benchmark and maverick-Zero-Shot:  (79.0, 57, 3, 79)\n",
      "Distance, true positives, false positives, and false negatives between benchmark and maverick-Chain-of-thought:  (81.0, 55, 11, 81)\n",
      "Distance, true positives, false positives, and false negatives between benchmark and flash-In-Context:  (58.0, 78, 16, 58)\n",
      "Distance, true positives, false positives, and false negatives between benchmark and flash-Zero-Shot:  (39.0, 97, 19, 39)\n"
     ]
    }
   ],
   "source": [
    "for name in os.listdir('.'):\n",
    "    if name.endswith('.xmi') and name != 'Benchmark.xmi':\n",
    "        print(f'Distance, true positives, false positives, and false negatives between benchmark and {name.split(\".\")[0]}: ',\n",
    "              xml_comp_metrics('Benchmark.xmi', name))"
   ]
  },
  {
   "cell_type": "code",
   "execution_count": null,
   "metadata": {},
   "outputs": [],
   "source": []
  }
 ],
 "metadata": {
  "kernelspec": {
   "display_name": "Python 3",
   "language": "python",
   "name": "python3"
  },
  "language_info": {
   "codemirror_mode": {
    "name": "ipython",
    "version": 3
   },
   "file_extension": ".py",
   "mimetype": "text/x-python",
   "name": "python",
   "nbconvert_exporter": "python",
   "pygments_lexer": "ipython3",
   "version": "3.8.10"
  }
 },
 "nbformat": 4,
 "nbformat_minor": 2
}
